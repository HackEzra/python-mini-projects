{
 "cells": [
  {
   "cell_type": "code",
   "execution_count": 4,
   "metadata": {},
   "outputs": [
    {
     "name": "stdout",
     "output_type": "stream",
     "text": [
      "\n",
      "Total Words: 45\n",
      "\n",
      "Top 20 Words:\n",
      "91 \t 8\n",
      "92 \t 7\n",
      "99437 \t 1\n",
      "28836 \t 1\n",
      "99599 \t 1\n",
      "16686 \t 1\n",
      "99784 \t 1\n",
      "01130 \t 1\n",
      "99877 \t 1\n",
      "12279 \t 1\n",
      "99890 \t 1\n",
      "84230 \t 1\n",
      "99901 \t 1\n",
      "00640 \t 1\n",
      "99976 \t 1\n",
      "53384 \t 1\n",
      "99998 \t 1\n",
      "48631 \t 1\n",
      "300 \t 1\n",
      "0796410 \t 1\n"
     ]
    }
   ],
   "source": [
    "import re\n",
    "from collections import Counter\n",
    "\n",
    "def count_words(path):\n",
    "    with open(path, encoding='utf-8') as file:\n",
    "        all_words = re.findall(r\"[0-9a-zA-Z-']+\", file.read())\n",
    "        all_words = [word.upper() for word in all_words]\n",
    "        print('\\nTotal Words:', len(all_words))\n",
    "        \n",
    "        word_counts = Counter()\n",
    "        for word in all_words:\n",
    "            word_counts[word] += 1\n",
    "        \n",
    "        print('\\nTop 20 Words:')\n",
    "        for word in word_counts.most_common(20):\n",
    "            print(word[0], '\\t', word[1])\n",
    "            \n",
    "if __name__ == '__main__':\n",
    "    count_words('C:\\\\Users\\\\Tanmay\\\\Desktop\\\\filename.txt')"
   ]
  },
  {
   "cell_type": "code",
   "execution_count": null,
   "metadata": {},
   "outputs": [],
   "source": []
  },
  {
   "cell_type": "code",
   "execution_count": null,
   "metadata": {},
   "outputs": [],
   "source": []
  },
  {
   "cell_type": "code",
   "execution_count": null,
   "metadata": {},
   "outputs": [],
   "source": []
  }
 ],
 "metadata": {
  "kernelspec": {
   "display_name": "Python 3",
   "language": "python",
   "name": "python3"
  },
  "language_info": {
   "codemirror_mode": {
    "name": "ipython",
    "version": 3
   },
   "file_extension": ".py",
   "mimetype": "text/x-python",
   "name": "python",
   "nbconvert_exporter": "python",
   "pygments_lexer": "ipython3",
   "version": "3.6.5"
  }
 },
 "nbformat": 4,
 "nbformat_minor": 2
}
