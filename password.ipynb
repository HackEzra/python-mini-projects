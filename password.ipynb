{
 "cells": [
  {
   "cell_type": "code",
   "execution_count": 2,
   "metadata": {},
   "outputs": [],
   "source": [
    "\n",
    "import pyperclip, re\n",
    "\n",
    "passwordRegex = re.compile(r'''(\n",
    "    ^(?=.*[A-Z].*[A-Z])                # at least two capital letters\n",
    "    (?=.*[!@#$&*])                     # at least one of these special characters\n",
    "    (?=.*[0-9].*[0-9])                 # at least two numeric digits\n",
    "    (?=.*[a-z].*[a-z].*[a-z])          # at least three lower case letters\n",
    "    .{10,}                              # at least 10 total digits\n",
    "    $\n",
    "    )''', re.VERBOSE)\n",
    "\n",
    "def userInputPasswordCheck():\n",
    "    ppass = input(\"Enter a potential password: \")\n",
    "    mo = passwordRegex.search(ppass)\n",
    "    if (not mo):\n",
    "        print(\"Not strong, bling blong\")\n",
    "        return False\n",
    "    else:\n",
    "        print(\"Long, Strong, and down to get the crypto on\")\n",
    "        return True"
   ]
  },
  {
   "cell_type": "code",
   "execution_count": null,
   "metadata": {},
   "outputs": [],
   "source": []
  }
 ],
 "metadata": {
  "kernelspec": {
   "display_name": "Python 3",
   "language": "python",
   "name": "python3"
  },
  "language_info": {
   "codemirror_mode": {
    "name": "ipython",
    "version": 3
   },
   "file_extension": ".py",
   "mimetype": "text/x-python",
   "name": "python",
   "nbconvert_exporter": "python",
   "pygments_lexer": "ipython3",
   "version": "3.6.5"
  }
 },
 "nbformat": 4,
 "nbformat_minor": 2
}
