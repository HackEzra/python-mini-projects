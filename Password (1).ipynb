{
 "cells": [
  {
   "cell_type": "code",
   "execution_count": 1,
   "metadata": {},
   "outputs": [],
   "source": [
    "from tkinter import *\n",
    "import os\n",
    "import re\n",
    "\n",
    "myGui = Tk()\n",
    "myGui.geometry('500x100+700+250')\n",
    "myGui.title('Password Generator')\n",
    "guiFont = font = dict(family='Courier New, monospaced', size=18, color='#7f7f7f')\n",
    "\n",
    "\n",
    "#====== Password Entry ==========\n",
    "eLabel = Label(myGui, text=\"Please Enter you Password:   \", font=guiFont)\n",
    "eLabel.grid(row=0, column=0)\n",
    "ePassword = Entry(myGui, show=\"*\")\n",
    "ePassword.grid(row=0, column=1)\n",
    "\n",
    "#====== Strength Check =======\n",
    "\n",
    "\n",
    "def checkPassword():\n",
    "    strength = ['Password can not be Blank', 'Very Weak', 'Weak', 'Medium', 'Strong', 'Very Strong']\n",
    "    score = 1\n",
    "    password = ePassword.get()\n",
    "    print(password, len(password))\n",
    "\n",
    "    if len(password) == 0:\n",
    "        passwordStrength.set(strength[0])\n",
    "        return\n",
    "\n",
    "    if len(password) < 4:\n",
    "        passwordStrength.set(strength[1])\n",
    "        return\n",
    "\n",
    "    if len(password) >= 8:\n",
    "        score += 1\n",
    "\n",
    "    if re.search(\"[0-9]\", password):\n",
    "        score += 1\n",
    "\n",
    "    if re.search(\"[a-z]\", password) and re.search(\"[A-Z]\", password):\n",
    "        score += 1\n",
    "\n",
    "    if re.search(\".\", password):\n",
    "        score += 1\n",
    "\n",
    "    passwordStrength.set(strength[score])\n",
    "\n",
    "passwordStrength = StringVar()\n",
    "checkStrBtn = Button(myGui, text=\"Check Strength\", command=checkPassword, height=2, width=25, font=guiFont)\n",
    "checkStrBtn.grid(row=2, column=0)\n",
    "checkStrLab = Label(myGui, textvariable=passwordStrength)\n",
    "checkStrLab.grid(row=2, column=1, sticky=W)\n",
    "\n",
    "myGui.mainloop()"
   ]
  },
  {
   "cell_type": "code",
   "execution_count": null,
   "metadata": {},
   "outputs": [],
   "source": []
  }
 ],
 "metadata": {
  "kernelspec": {
   "display_name": "Python 3",
   "language": "python",
   "name": "python3"
  },
  "language_info": {
   "codemirror_mode": {
    "name": "ipython",
    "version": 3
   },
   "file_extension": ".py",
   "mimetype": "text/x-python",
   "name": "python",
   "nbconvert_exporter": "python",
   "pygments_lexer": "ipython3",
   "version": "3.6.5"
  }
 },
 "nbformat": 4,
 "nbformat_minor": 2
}
