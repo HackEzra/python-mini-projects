{
 "cells": [
  {
   "cell_type": "code",
   "execution_count": 1,
   "metadata": {},
   "outputs": [
    {
     "name": "stdout",
     "output_type": "stream",
     "text": [
      "Apple iPhone X (Space Gray, 64 GB)\n",
      "₹69,999₹91,90023% offUp to ₹17,900 Off on ExchangeEMI starting from ₹2325/monthOffersSpecial Price\n",
      "4.66,508 Ratings & 609 Reviews\n"
     ]
    }
   ],
   "source": [
    "from bs4 import BeautifulSoup as soup\n",
    "from urllib.request import urlopen as uReq\n",
    "\n",
    "my_url = 'https://www.flipkart.com/search?q=iphone&sid=tyy%2C4io&as=on&as-show=on&otracker=AS_QueryStore_OrganicAutoSuggest_0_4&otracker1=AS_QueryStore_OrganicAutoSuggest_0_4&as-pos=0&as-type=RECENT&as-backfill=on'\n",
    "\n",
    "\n",
    "uClient = uReq(my_url)\n",
    "page_html = uClient.read()\n",
    "uClient.close()\n",
    "page_soup = soup(page_html,\"html.parser\")\n",
    "\n",
    "\n",
    "containers = page_soup.findAll(\"div\", {\"class\":\"_3O0U0u\"})\n",
    "#print(len(containers))\n",
    "#print(soup.prettify(containers[0]))\n",
    "\n",
    "container = containers[0]\n",
    "print(container.div.img[\"alt\"])\n",
    "\n",
    "price = container.findAll(\"div\",{\"class\":\"col col-5-12 _2o7WAb\"})\n",
    "print(price[0].text)\n",
    "\n",
    "ratings = container.findAll(\"div\",{\"class\":\"niH0FQ\"})\n",
    "print (ratings[0].text)\n",
    "\n",
    "\n",
    "filename = \"Scrappeddata.csv\"\n",
    "f = open(filename,\"w\")\n",
    "\n",
    "headers = \"Products_Name, Pricing , Ratings\\n\"\n",
    "f.write(headers)\n",
    "\n",
    "for container in containers:\n",
    "    product_name = container.div.img[\"alt\"]\n",
    "\n",
    "    price_container = container.findAll(\"div\",{\"class\":\"col col-5-12 _2o7WAb\"})\n",
    "    price = price_container[0].text.strip()\n",
    "\n",
    "    rating_container = container.findAll(\"div\",{\"class\":\"niH0FQ\"})\n",
    "    rating = rating_container[0].text\n",
    "\n",
    "    #print(\"product_name:\" + product_name)\n",
    "    #print(\"price:\" + price)\n",
    "    #print(\"ratings:\" + rating)\n",
    "\n",
    "\n",
    "    trim_price = ''.join(price.split(','))\n",
    "    rm_rupee = trim_price.split(\"₹\")\n",
    "    add_rs_price = \"Rs.\" + rm_rupee[1]\n",
    "    split_price = add_rs_price.split('E')\n",
    "    final_price = split_price[0]\n",
    "\n",
    "\n",
    "    split_rating = rating.split(\" \")\n",
    "    final_rating = split_rating[0]\n",
    "\n",
    "    #print(product_name.replace(\",\",\"|\") + \",\" + final_price + \",\" + final_rating + \"\\n\")\n",
    "    f.write(product_name.replace(\",\", \"|\") + \",\" + final_price + \",\" + final_rating + \"\\n\")\n",
    "    \n",
    "f.close()"
   ]
  },
  {
   "cell_type": "code",
   "execution_count": null,
   "metadata": {},
   "outputs": [],
   "source": []
  },
  {
   "cell_type": "code",
   "execution_count": null,
   "metadata": {},
   "outputs": [],
   "source": []
  }
 ],
 "metadata": {
  "kernelspec": {
   "display_name": "Python 3",
   "language": "python",
   "name": "python3"
  },
  "language_info": {
   "codemirror_mode": {
    "name": "ipython",
    "version": 3
   },
   "file_extension": ".py",
   "mimetype": "text/x-python",
   "name": "python",
   "nbconvert_exporter": "python",
   "pygments_lexer": "ipython3",
   "version": "3.6.5"
  }
 },
 "nbformat": 4,
 "nbformat_minor": 2
}
