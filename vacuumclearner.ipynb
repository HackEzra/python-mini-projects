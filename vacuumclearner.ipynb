{
 "cells": [
  {
   "cell_type": "code",
   "execution_count": 1,
   "metadata": {},
   "outputs": [],
   "source": [
    "import random\n",
    "\n",
    "\n",
    "class Environment(object):\n",
    "    def __init__(self):\n",
    "        # instantiate locations and conditions\n",
    "        # 0 indicates Clean and 1 indicates Dirty\n",
    "        self.locationCondition = {'A': '0', 'B': '0'}\n",
    "\n",
    "        # randomize conditions in locations A and B\n",
    "        self.locationCondition['A'] = random.randint(0, 1)\n",
    "        self.locationCondition['B'] = random.randint(0, 1)"
   ]
  },
  {
   "cell_type": "code",
   "execution_count": 2,
   "metadata": {},
   "outputs": [],
   "source": [
    "class SimpleReflexVacuumAgent(Environment):\n",
    "    def __init__(self, Environment):\n",
    "        print(Environment.locationCondition)\n",
    "        # Instantiate performance measurement\n",
    "        Score = 0\n",
    "        # place vacuum at random location\n",
    "        vacuumLocation = random.randint(0, 1)\n",
    "        # if vacuum at A\n",
    "        if vacuumLocation == 0:\n",
    "            print(\"Vacuum is randomly placed at Location A.\")\n",
    "            # and Location A is Dirty.\n",
    "            if Environment.locationCondition['A'] == 1:\n",
    "                print(\"Location A is Dirty.\")\n",
    "                # suck the dirt  and mark it clean\n",
    "                Environment.locationCondition['A'] = 0;\n",
    "                Score += 1\n",
    "                print(\"Location A has been Cleaned.\")\n",
    "                # move to B\n",
    "                print(\"Moving to Location B...\")\n",
    "                Score -= 1\n",
    "                # if B is Dirty\n",
    "                if Environment.locationCondition['B'] == 1:\n",
    "                    print(\"Location B is Dirty.\")\n",
    "                    # suck and mark clean\n",
    "                    Environment.locationCondition['B'] = 0;\n",
    "                    Score += 1\n",
    "                    print(\"Location B has been Cleaned.\")\n",
    "            else:\n",
    "                # move to B\n",
    "                Score -= 1\n",
    "                print(\"Moving to Location B...\")\n",
    "                # if B is Dirty\n",
    "                if Environment.locationCondition['B'] == 1:\n",
    "                    print(\"Location B is Dirty.\")\n",
    "                    # suck and mark clean\n",
    "                    Environment.locationCondition['B'] = 0;\n",
    "                    Score += 1\n",
    "                    print(\"Location B has been Cleaned.\")\n",
    "\n",
    "        elif vacuumLocation == 1:\n",
    "            print(\"Vacuum randomly placed at Location B.\")\n",
    "            # and B is Dirty\n",
    "            if Environment.locationCondition['B'] == 1:\n",
    "                print(\"Location B is Dirty.\")\n",
    "                # suck and mark clean\n",
    "                Environment.locationCondition['B'] = 0;\n",
    "                Score += 1\n",
    "                print(\"Location B has been Cleaned.\")\n",
    "                # move to A\n",
    "                Score -= 1\n",
    "                print(\"Moving to Location A...\")\n",
    "                # if A is Dirty\n",
    "                if Environment.locationCondition['A'] == 1:\n",
    "                    print(\"Location A is Dirty.\")\n",
    "                    # suck and mark clean\n",
    "                    Environment.locationCondition['A'] = 0;\n",
    "                    Score += 1\n",
    "                    print(\"Location A has been Cleaned.\")\n",
    "            else:\n",
    "                # move to A\n",
    "                print(\"Moving to Location A...\")\n",
    "                Score -= 1\n",
    "                # if A is Dirty\n",
    "                if Environment.locationCondition['A'] == 1:\n",
    "                    print(\"Location A is Dirty.\")\n",
    "                    # suck and mark clean\n",
    "                    Environment.locationCondition['A'] = 0;\n",
    "                    Score += 1\n",
    "                    print(\"Location A has been Cleaned.\")\n",
    "        # done cleaning\n",
    "        print(Environment.locationCondition)\n",
    "        print(\"Performance Measurement: \" + str(Score))\n",
    "        "
   ]
  },
  {
   "cell_type": "code",
   "execution_count": 3,
   "metadata": {},
   "outputs": [
    {
     "name": "stdout",
     "output_type": "stream",
     "text": [
      "{'A': 1, 'B': 0}\n",
      "Vacuum is randomly placed at Location A.\n",
      "Location A is Dirty.\n",
      "Location A has been Cleaned.\n",
      "Moving to Location B...\n",
      "{'A': 0, 'B': 0}\n",
      "Performance Measurement: 0\n"
     ]
    }
   ],
   "source": [
    "theEnvironment = Environment()\n",
    "theVacuum = SimpleReflexVacuumAgent(theEnvironment)"
   ]
  },
  {
   "cell_type": "code",
   "execution_count": null,
   "metadata": {},
   "outputs": [],
   "source": []
  },
  {
   "cell_type": "code",
   "execution_count": null,
   "metadata": {},
   "outputs": [],
   "source": []
  }
 ],
 "metadata": {
  "kernelspec": {
   "display_name": "Python 3",
   "language": "python",
   "name": "python3"
  },
  "language_info": {
   "codemirror_mode": {
    "name": "ipython",
    "version": 3
   },
   "file_extension": ".py",
   "mimetype": "text/x-python",
   "name": "python",
   "nbconvert_exporter": "python",
   "pygments_lexer": "ipython3",
   "version": "3.6.5"
  }
 },
 "nbformat": 4,
 "nbformat_minor": 2
}
