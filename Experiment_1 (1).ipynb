{
 "cells": [
  {
   "cell_type": "markdown",
   "metadata": {
    "colab_type": "text",
    "id": "umnmYxQgyRAT"
   },
   "source": [
    "### Python_Basics_Interview_Questions"
   ]
  },
  {
   "cell_type": "markdown",
   "metadata": {
    "colab_type": "text",
    "id": "z3zwKA3ayRAW"
   },
   "source": [
    "\n",
    "\n",
    "```\n",
    "`# This is formatted as code`\n",
    "```\n",
    "\n",
    "What is the difference between Lists and Tuples"
   ]
  },
  {
   "cell_type": "code",
   "execution_count": null,
   "metadata": {
    "colab": {},
    "colab_type": "code",
    "id": "1M3hWz1WaOpN"
   },
   "outputs": [],
   "source": [
    "#What is the difference between Lists and Tuples?"
   ]
  },
  {
   "cell_type": "code",
   "execution_count": null,
   "metadata": {
    "colab": {},
    "colab_type": "code",
    "id": "MykU24KgaZtA"
   },
   "outputs": [],
   "source": [
    "#Is the Python Case Sensitive Language?"
   ]
  },
  {
   "cell_type": "code",
   "execution_count": null,
   "metadata": {
    "colab": {},
    "colab_type": "code",
    "id": "Uu1M5hqIaiqt"
   },
   "outputs": [],
   "source": [
    "#What are the supported data types in Python?"
   ]
  },
  {
   "cell_type": "code",
   "execution_count": null,
   "metadata": {
    "colab": {},
    "colab_type": "code",
    "id": "aHyUgsqXanMQ"
   },
   "outputs": [],
   "source": [
    "#What is the output of print str if str = 'Hello World!'?"
   ]
  },
  {
   "cell_type": "code",
   "execution_count": null,
   "metadata": {
    "colab": {},
    "colab_type": "code",
    "id": "MXELSkqcar-0"
   },
   "outputs": [],
   "source": [
    "#What is the output of print str[0] if str = 'Hello World!'?"
   ]
  },
  {
   "cell_type": "code",
   "execution_count": null,
   "metadata": {
    "colab": {},
    "colab_type": "code",
    "id": "YfHGzUEda6Da"
   },
   "outputs": [],
   "source": [
    "#What is the output of print str[2:5] if str = 'Hello World!'?"
   ]
  },
  {
   "cell_type": "code",
   "execution_count": null,
   "metadata": {
    "colab": {},
    "colab_type": "code",
    "id": "rXWYsZ5JbEdd"
   },
   "outputs": [],
   "source": [
    "#What is the output of print str * 2 if str = 'Hello World!'?"
   ]
  },
  {
   "cell_type": "code",
   "execution_count": null,
   "metadata": {
    "colab": {},
    "colab_type": "code",
    "id": "I6pVIPWibGjz"
   },
   "outputs": [],
   "source": [
    "#What is the output of print str + \"TEST\" if str = 'Hello World!'?"
   ]
  },
  {
   "cell_type": "code",
   "execution_count": null,
   "metadata": {
    "colab": {},
    "colab_type": "code",
    "id": "fVGrkHJubIv1"
   },
   "outputs": [],
   "source": [
    "#What is the output of print list if list = [ 'abcd', 786 , 2.23, 'john', 70.2 ]?"
   ]
  },
  {
   "cell_type": "code",
   "execution_count": null,
   "metadata": {
    "colab": {},
    "colab_type": "code",
    "id": "qjaPoJBtbagn"
   },
   "outputs": [],
   "source": [
    "#What is the output of print list[0] if list = [ 'abcd', 786 , 2.23, 'john', 70.2 ]?"
   ]
  },
  {
   "cell_type": "code",
   "execution_count": null,
   "metadata": {
    "colab": {},
    "colab_type": "code",
    "id": "dKzf0gQAbh_X"
   },
   "outputs": [],
   "source": [
    "#What is the output of print list + tinylist * 2 if list = [ 'abcd', 786 , 2.23, 'john', 70.2 ] and tinylist = [123, 'john']?"
   ]
  },
  {
   "cell_type": "code",
   "execution_count": null,
   "metadata": {
    "colab": {},
    "colab_type": "code",
    "id": "9t6seXUrblaE"
   },
   "outputs": [],
   "source": [
    "#What are tuples in Python?"
   ]
  },
  {
   "cell_type": "code",
   "execution_count": null,
   "metadata": {
    "colab": {},
    "colab_type": "code",
    "id": "_58PtEGUbpbk"
   },
   "outputs": [],
   "source": [
    "#What is Python?"
   ]
  },
  {
   "cell_type": "code",
   "execution_count": null,
   "metadata": {
    "colab": {},
    "colab_type": "code",
    "id": "3aXxsoq1bzpn"
   },
   "outputs": [],
   "source": [
    "#What is the output of print tuple if tuple = ( 'abcd', 786 , 2.23, 'john', 70.2 )?"
   ]
  },
  {
   "cell_type": "code",
   "execution_count": null,
   "metadata": {
    "colab": {},
    "colab_type": "code",
    "id": "KFQ2XXD2b7XP"
   },
   "outputs": [],
   "source": [
    "#What is the output of print tuple[2:] if tuple = ( 'abcd', 786 , 2.23, 'john', 70.2 )?"
   ]
  },
  {
   "cell_type": "code",
   "execution_count": null,
   "metadata": {
    "colab": {},
    "colab_type": "code",
    "id": "Zr09bpm4b_dI"
   },
   "outputs": [],
   "source": [
    "#What are Python's dictionaries?"
   ]
  },
  {
   "cell_type": "code",
   "execution_count": null,
   "metadata": {
    "colab": {},
    "colab_type": "code",
    "id": "DSwSPQHXcKtw"
   },
   "outputs": [],
   "source": [
    "#How will you create a dictionary in python?"
   ]
  },
  {
   "cell_type": "code",
   "execution_count": null,
   "metadata": {
    "colab": {},
    "colab_type": "code",
    "id": "sizusKhkcO-k"
   },
   "outputs": [],
   "source": [
    "#How will you remove last object from a list?"
   ]
  },
  {
   "cell_type": "code",
   "execution_count": null,
   "metadata": {
    "colab": {},
    "colab_type": "code",
    "id": "Y2Lae5OBcSj-"
   },
   "outputs": [],
   "source": [
    "#How will you reverse a list?"
   ]
  },
  {
   "cell_type": "code",
   "execution_count": null,
   "metadata": {
    "colab": {},
    "colab_type": "code",
    "id": "3dJQ7oqecb1q"
   },
   "outputs": [],
   "source": [
    "#How will you reverse a list?"
   ]
  },
  {
   "cell_type": "code",
   "execution_count": null,
   "metadata": {
    "colab": {},
    "colab_type": "code",
    "id": "gFLenlE9cjFU"
   },
   "outputs": [],
   "source": [
    "#How will you sort a list?"
   ]
  },
  {
   "cell_type": "code",
   "execution_count": null,
   "metadata": {
    "colab": {},
    "colab_type": "code",
    "id": "YYTkeNAncmI7"
   },
   "outputs": [],
   "source": [
    "#How will you insert an object at given index in a list?"
   ]
  },
  {
   "cell_type": "code",
   "execution_count": null,
   "metadata": {
    "colab": {},
    "colab_type": "code",
    "id": "YKCLvHozcs8W"
   },
   "outputs": [],
   "source": [
    "#What Is A Built-In Function That Python Uses To Iterate Over A Number Sequence?"
   ]
  },
  {
   "cell_type": "code",
   "execution_count": null,
   "metadata": {
    "colab": {},
    "colab_type": "code",
    "id": "HEQuZjaBcypI"
   },
   "outputs": [],
   "source": [
    "#what are the Mutable and Immutable Data Structures in Python"
   ]
  },
  {
   "cell_type": "markdown",
   "metadata": {
    "colab_type": "text",
    "id": "Sj3Lwg0eyRA-"
   },
   "source": [
    "Q1) Write a Python program to find those numbers which are divisible by 7 and multiple of 5, between 1500 and 2700 (both included)\n"
   ]
  },
  {
   "cell_type": "code",
   "execution_count": null,
   "metadata": {
    "colab": {},
    "colab_type": "code",
    "id": "r-Abo4C-yRA_",
    "outputId": "b0f90411-d92a-4c05-ea97-62f6dae2334a"
   },
   "outputs": [
    {
     "name": "stdout",
     "output_type": "stream",
     "text": [
      "1505\n",
      "1540\n",
      "1575\n",
      "1610\n",
      "1645\n",
      "1680\n",
      "1715\n",
      "1750\n",
      "1785\n",
      "1820\n",
      "1855\n",
      "1890\n",
      "1925\n",
      "1960\n",
      "1995\n",
      "2030\n",
      "2065\n",
      "2100\n",
      "2135\n",
      "2170\n",
      "2205\n",
      "2240\n",
      "2275\n",
      "2310\n",
      "2345\n",
      "2380\n",
      "2415\n",
      "2450\n",
      "2485\n",
      "2520\n",
      "2555\n",
      "2590\n",
      "2625\n",
      "2660\n",
      "2695\n",
      "[1505, 1540, 1575, 1610, 1645, 1680, 1715, 1750, 1785, 1820, 1855, 1890, 1925, 1960, 1995, 2030, 2065, 2100, 2135, 2170, 2205, 2240, 2275, 2310, 2345, 2380, 2415, 2450, 2485, 2520, 2555, 2590, 2625, 2660, 2695]\n"
     ]
    }
   ],
   "source": [
    "y = []\n",
    "\n",
    "for i in range (1500, 2700):\n",
    "    if (i % 7 == 0 and i % 5 == 0):\n",
    "        print(i)\n",
    "        y.append((i))\n",
    "print(y)"
   ]
  },
  {
   "cell_type": "markdown",
   "metadata": {
    "colab_type": "text",
    "id": "MP-fY7sfyRBH"
   },
   "source": [
    "Q2) Write a Python program to guess a number between 1 to 9\n",
    "User is prompted to enter a guess. If the user guesses wrong then the prompt appears again until the guess is correct, on successful guess, user will get a \"Well guessed!\" message, and the program will exit."
   ]
  },
  {
   "cell_type": "code",
   "execution_count": null,
   "metadata": {
    "colab": {},
    "colab_type": "code",
    "id": "7YcSe7vXyRBI"
   },
   "outputs": [],
   "source": [
    "import random\n",
    "guess=random.randint(1,9)\n",
    "print(guess)\n",
    "while(True):\n",
    "    user_input = int(input(\"Please guess random number between 1 to 9 : \" ))\n",
    "    if user_input < 0:\n",
    "        print(\"The number is beyond this limit\")\n",
    "    if user_input > 9:\n",
    "        print(\"The number is beyond this limit\")\n",
    "    if user_input == guess:\n",
    "        break\n",
    "    print(\"well guessed\")"
   ]
  },
  {
   "cell_type": "markdown",
   "metadata": {
    "colab_type": "text",
    "id": "gPr4VQAJyRBM"
   },
   "source": [
    "Q3)Write a Python program to count the number of even and odd numbers from a series of numbers Sample numbers  : numbers = (1, 2, 3, 4, 5, 6, 7, 8, 9)\n",
    "Expected Output  :\n",
    "Number of even numbers : 5\n",
    "Number of odd numbers : 4"
   ]
  },
  {
   "cell_type": "code",
   "execution_count": null,
   "metadata": {
    "colab": {},
    "colab_type": "code",
    "id": "dWvq4v0QyRBN"
   },
   "outputs": [],
   "source": [
    "numbers = (1, 2, 3, 4, 5, 6, 7, 8, 9)\n",
    "count_odd = 0\n",
    "count_even = 0\n",
    "for count in numbers:\n",
    "    if not count%2==0:\n",
    "        count_even += 1\n",
    "        else:\n",
    "            count_odd +=1\n",
    "            print(\"Number of Even Numbers:\", count_even)\n",
    "            print(\"Number of Odd Numbers:\", count_odd)"
   ]
  },
  {
   "cell_type": "markdown",
   "metadata": {
    "colab_type": "text",
    "id": "EjloJd97yRBQ"
   },
   "source": [
    "Q4)5)Write a Python program to check the validity of password input by users. Validation :\n",
    "● At least 1 letter between [a-z] and 1 letter between [A-Z].\n",
    "● At least 1 number between [0-9].\n",
    "● At least 1 character from [$#@].\n",
    "● Minimum length 6 characters.\n",
    "● Maximum length 16 characters."
   ]
  },
  {
   "cell_type": "code",
   "execution_count": null,
   "metadata": {
    "colab": {},
    "colab_type": "code",
    "id": "ZVr-H3I_yRBS"
   },
   "outputs": [],
   "source": [
    "import re\n",
    "p= input(\"Input your password\")\n",
    "x = True\n",
    "while x:\n",
    "    if (len(p)<6 or len(p)>12):\n",
    "        break\n",
    "    elif not re.search(\"[a-z]\",p):\n",
    "            break\n",
    "    elif not re.search(\"[0-9]\",p):"
   ]
  },
  {
   "cell_type": "code",
   "execution_count": null,
   "metadata": {
    "colab": {},
    "colab_type": "code",
    "id": "51siJUPiyRBa"
   },
   "outputs": [],
   "source": []
  }
 ],
 "metadata": {
  "colab": {
   "name": "Experiment_1.ipynb",
   "provenance": [],
   "version": "0.3.2"
  },
  "kernelspec": {
   "display_name": "Python 3",
   "language": "python",
   "name": "python3"
  },
  "language_info": {
   "codemirror_mode": {
    "name": "ipython",
    "version": 3
   },
   "file_extension": ".py",
   "mimetype": "text/x-python",
   "name": "python",
   "nbconvert_exporter": "python",
   "pygments_lexer": "ipython3",
   "version": "3.6.5"
  }
 },
 "nbformat": 4,
 "nbformat_minor": 2
}
